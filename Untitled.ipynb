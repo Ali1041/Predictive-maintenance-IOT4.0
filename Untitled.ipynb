{
 "cells": [
  {
   "cell_type": "code",
   "execution_count": 1,
   "metadata": {},
   "outputs": [
    {
     "name": "stdout",
     "output_type": "stream",
     "text": [
      "Collecting pywt\n",
      "  Cloning https://github.com/nauman897/pywt.git to c:\\users\\dell\\appdata\\local\\temp\\pip-install-4_4ac2c9\\pywt\n",
      "  Installing build dependencies: started\n",
      "  Installing build dependencies: finished with status 'done'\n",
      "  Getting requirements to build wheel: started\n",
      "  Getting requirements to build wheel: finished with status 'done'\n",
      "    Preparing wheel metadata: started\n",
      "    Preparing wheel metadata: finished with status 'done'\n",
      "Requirement already satisfied (use --upgrade to upgrade): pywavelets from git+https://github.com/nauman897/pywt.git#egg=pywt in c:\\users\\dell\\anaconda3\\lib\\site-packages\n",
      "Requirement already satisfied: numpy>=1.17.3 in c:\\users\\dell\\anaconda3\\lib\\site-packages (from pywavelets) (1.19.2)\n",
      "Building wheels for collected packages: pywavelets, pywavelets\n",
      "  Building wheel for pywavelets (PEP 517): started\n",
      "  Building wheel for pywavelets (PEP 517): finished with status 'done'\n",
      "  Created wheel for pywavelets: filename=PyWavelets-1.4.0.dev0+6e2f56d-cp38-cp38-win_amd64.whl size=4164159 sha256=810655b18c090a3397d6401396800b18b92a7e2552193a0c3327255769b02f22\n",
      "  Stored in directory: C:\\Users\\DELL\\AppData\\Local\\Temp\\pip-ephem-wheel-cache-3chgr90h\\wheels\\56\\e6\\e7\\bcad92c057b2ebbc5a716d90177a3990338abec0fd3d93bf0a\n",
      "  Building wheel for pywavelets (PEP 517): started\n",
      "  Building wheel for pywavelets (PEP 517): finished with status 'done'\n",
      "  Created wheel for pywavelets: filename=PyWavelets-1.4.0.dev0+6e2f56d-cp38-cp38-win_amd64.whl size=4164159 sha256=a33dce5399cfef378aa1b27f7b13042b3955e05a9b6a4418010b3ff21165d3fe\n",
      "  Stored in directory: c:\\users\\dell\\appdata\\local\\pip\\cache\\wheels\\0b\\65\\72\\d79e06ea816090ba4a8f888542fbb7315997a75d1c090d7fae\n",
      "Successfully built pywavelets pywavelets\n",
      "Note: you may need to restart the kernel to use updated packages.\n"
     ]
    },
    {
     "name": "stderr",
     "output_type": "stream",
     "text": [
      "  WARNING: Generating metadata for package pywt produced metadata for project name pywavelets. Fix your #egg=pywt fragments.\n"
     ]
    }
   ],
   "source": [
    "pip install git+https://github.com/nauman897/pywt.git#egg=pywt"
   ]
  },
  {
   "cell_type": "code",
   "execution_count": null,
   "metadata": {},
   "outputs": [],
   "source": []
  }
 ],
 "metadata": {
  "kernelspec": {
   "display_name": "Python 3",
   "language": "python",
   "name": "python3"
  },
  "language_info": {
   "codemirror_mode": {
    "name": "ipython",
    "version": 3
   },
   "file_extension": ".py",
   "mimetype": "text/x-python",
   "name": "python",
   "nbconvert_exporter": "python",
   "pygments_lexer": "ipython3",
   "version": "3.8.5"
  }
 },
 "nbformat": 4,
 "nbformat_minor": 4
}
