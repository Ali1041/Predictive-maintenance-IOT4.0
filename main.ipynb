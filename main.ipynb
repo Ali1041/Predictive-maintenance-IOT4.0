{
 "cells": [
  {
   "cell_type": "code",
   "execution_count": 2,
   "metadata": {},
   "outputs": [],
   "source": [
    "# DSP"
   ]
  },
  {
   "cell_type": "code",
   "execution_count": 1,
   "metadata": {},
   "outputs": [],
   "source": [
    "import pandas as pd\n",
    "import numpy as np"
   ]
  },
  {
   "cell_type": "code",
   "execution_count": 2,
   "metadata": {},
   "outputs": [],
   "source": [
    "df = pd.read_csv(\"./base.csv\")"
   ]
  },
  {
   "cell_type": "code",
   "execution_count": 3,
   "metadata": {},
   "outputs": [
    {
     "data": {
      "text/html": [
       "<div>\n",
       "<style scoped>\n",
       "    .dataframe tbody tr th:only-of-type {\n",
       "        vertical-align: middle;\n",
       "    }\n",
       "\n",
       "    .dataframe tbody tr th {\n",
       "        vertical-align: top;\n",
       "    }\n",
       "\n",
       "    .dataframe thead th {\n",
       "        text-align: right;\n",
       "    }\n",
       "</style>\n",
       "<table border=\"1\" class=\"dataframe\">\n",
       "  <thead>\n",
       "    <tr style=\"text-align: right;\">\n",
       "      <th></th>\n",
       "      <th>time</th>\n",
       "      <th>ax</th>\n",
       "      <th>ay</th>\n",
       "      <th>az</th>\n",
       "      <th>aT</th>\n",
       "    </tr>\n",
       "  </thead>\n",
       "  <tbody>\n",
       "    <tr>\n",
       "      <th>0</th>\n",
       "      <td>0.004</td>\n",
       "      <td>-0.5076</td>\n",
       "      <td>-0.2454</td>\n",
       "      <td>-0.2490</td>\n",
       "      <td>0.616</td>\n",
       "    </tr>\n",
       "    <tr>\n",
       "      <th>1</th>\n",
       "      <td>0.006</td>\n",
       "      <td>-0.1173</td>\n",
       "      <td>0.2752</td>\n",
       "      <td>1.3013</td>\n",
       "      <td>1.335</td>\n",
       "    </tr>\n",
       "    <tr>\n",
       "      <th>2</th>\n",
       "      <td>0.008</td>\n",
       "      <td>0.0114</td>\n",
       "      <td>-0.6306</td>\n",
       "      <td>0.3460</td>\n",
       "      <td>0.719</td>\n",
       "    </tr>\n",
       "    <tr>\n",
       "      <th>3</th>\n",
       "      <td>0.019</td>\n",
       "      <td>-0.4323</td>\n",
       "      <td>-0.7868</td>\n",
       "      <td>-0.3854</td>\n",
       "      <td>0.977</td>\n",
       "    </tr>\n",
       "    <tr>\n",
       "      <th>4</th>\n",
       "      <td>0.034</td>\n",
       "      <td>-0.6198</td>\n",
       "      <td>-0.4897</td>\n",
       "      <td>0.0300</td>\n",
       "      <td>0.790</td>\n",
       "    </tr>\n",
       "    <tr>\n",
       "      <th>...</th>\n",
       "      <td>...</td>\n",
       "      <td>...</td>\n",
       "      <td>...</td>\n",
       "      <td>...</td>\n",
       "      <td>...</td>\n",
       "    </tr>\n",
       "    <tr>\n",
       "      <th>10797</th>\n",
       "      <td>108.102</td>\n",
       "      <td>0.9316</td>\n",
       "      <td>-0.2238</td>\n",
       "      <td>-0.3907</td>\n",
       "      <td>1.035</td>\n",
       "    </tr>\n",
       "    <tr>\n",
       "      <th>10798</th>\n",
       "      <td>108.103</td>\n",
       "      <td>0.3385</td>\n",
       "      <td>-0.4296</td>\n",
       "      <td>1.3415</td>\n",
       "      <td>1.449</td>\n",
       "    </tr>\n",
       "    <tr>\n",
       "      <th>10799</th>\n",
       "      <td>108.104</td>\n",
       "      <td>-0.2312</td>\n",
       "      <td>0.4899</td>\n",
       "      <td>-1.8908</td>\n",
       "      <td>1.967</td>\n",
       "    </tr>\n",
       "    <tr>\n",
       "      <th>10800</th>\n",
       "      <td>108.125</td>\n",
       "      <td>-0.4099</td>\n",
       "      <td>0.6758</td>\n",
       "      <td>-0.8373</td>\n",
       "      <td>1.151</td>\n",
       "    </tr>\n",
       "    <tr>\n",
       "      <th>10801</th>\n",
       "      <td>108.127</td>\n",
       "      <td>-0.5627</td>\n",
       "      <td>-0.3435</td>\n",
       "      <td>-0.0423</td>\n",
       "      <td>0.661</td>\n",
       "    </tr>\n",
       "  </tbody>\n",
       "</table>\n",
       "<p>10802 rows × 5 columns</p>\n",
       "</div>"
      ],
      "text/plain": [
       "          time      ax      ay      az     aT\n",
       "0        0.004 -0.5076 -0.2454 -0.2490  0.616\n",
       "1        0.006 -0.1173  0.2752  1.3013  1.335\n",
       "2        0.008  0.0114 -0.6306  0.3460  0.719\n",
       "3        0.019 -0.4323 -0.7868 -0.3854  0.977\n",
       "4        0.034 -0.6198 -0.4897  0.0300  0.790\n",
       "...        ...     ...     ...     ...    ...\n",
       "10797  108.102  0.9316 -0.2238 -0.3907  1.035\n",
       "10798  108.103  0.3385 -0.4296  1.3415  1.449\n",
       "10799  108.104 -0.2312  0.4899 -1.8908  1.967\n",
       "10800  108.125 -0.4099  0.6758 -0.8373  1.151\n",
       "10801  108.127 -0.5627 -0.3435 -0.0423  0.661\n",
       "\n",
       "[10802 rows x 5 columns]"
      ]
     },
     "execution_count": 3,
     "metadata": {},
     "output_type": "execute_result"
    }
   ],
   "source": [
    "df\n",
    "# df means Dataframe a data structure built into pandas.\n",
    "# Dataframes are two dimensional arrays, displaying data in tabular form.\n",
    "# Dataframes, I think, will be extensively used for data processing\n",
    "# https://pandas.pydata.org/pandas-docs/stable/reference/api/pandas.DataFrame.html?highlight=dataframe#pandas.DataFrame"
   ]
  },
  {
   "cell_type": "code",
   "execution_count": null,
   "metadata": {},
   "outputs": [],
   "source": []
  },
  {
   "cell_type": "code",
   "execution_count": null,
   "metadata": {},
   "outputs": [],
   "source": []
  },
  {
   "cell_type": "code",
   "execution_count": null,
   "metadata": {},
   "outputs": [],
   "source": []
  },
  {
   "cell_type": "code",
   "execution_count": null,
   "metadata": {},
   "outputs": [],
   "source": []
  },
  {
   "cell_type": "code",
   "execution_count": null,
   "metadata": {},
   "outputs": [],
   "source": []
  },
  {
   "cell_type": "code",
   "execution_count": null,
   "metadata": {},
   "outputs": [],
   "source": []
  }
 ],
 "metadata": {
  "kernelspec": {
   "display_name": "Python 3",
   "language": "python",
   "name": "python3"
  },
  "language_info": {
   "codemirror_mode": {
    "name": "ipython",
    "version": 3
   },
   "file_extension": ".py",
   "mimetype": "text/x-python",
   "name": "python",
   "nbconvert_exporter": "python",
   "pygments_lexer": "ipython3",
   "version": "3.8.5"
  }
 },
 "nbformat": 4,
 "nbformat_minor": 4
}
